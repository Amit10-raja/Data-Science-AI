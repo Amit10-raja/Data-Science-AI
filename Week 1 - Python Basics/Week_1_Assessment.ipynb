{
  "nbformat": 4,
  "nbformat_minor": 0,
  "metadata": {
    "colab": {
      "name": "Week_1_Assessment.ipynb",
      "provenance": [],
      "collapsed_sections": [],
      "authorship_tag": "ABX9TyM6CsDrppjhTeFcS2s3xd4w",
      "include_colab_link": true
    },
    "kernelspec": {
      "name": "python3",
      "display_name": "Python 3"
    }
  },
  "cells": [
    {
      "cell_type": "markdown",
      "metadata": {
        "id": "view-in-github",
        "colab_type": "text"
      },
      "source": [
        "<a href=\"https://colab.research.google.com/github/C3Suryansu/Data-Science-AI/blob/main/Week%201%20-%20Python%20Basics/Week_1_Assessment.ipynb\" target=\"_parent\"><img src=\"https://colab.research.google.com/assets/colab-badge.svg\" alt=\"Open In Colab\"/></a>"
      ]
    },
    {
      "cell_type": "markdown",
      "metadata": {
        "id": "cR-dxFx1hb8h"
      },
      "source": [
        "#Using file handling, extract and read data from the data.txt file, and store that in a list."
      ]
    },
    {
      "cell_type": "code",
      "metadata": {
        "id": "qefHJlTOd8K2"
      },
      "source": [
        ""
      ],
      "execution_count": null,
      "outputs": []
    },
    {
      "cell_type": "markdown",
      "metadata": {
        "id": "caXry11fhmWY"
      },
      "source": [
        "Q1 - Find out the mean and median of the data you extracted and stored in the list, without using any libraries."
      ]
    },
    {
      "cell_type": "code",
      "metadata": {
        "id": "YWsE7Wwyh1zV"
      },
      "source": [
        ""
      ],
      "execution_count": null,
      "outputs": []
    },
    {
      "cell_type": "markdown",
      "metadata": {
        "id": "tupwxozth2l4"
      },
      "source": [
        "Q2 - Divide the list into 2 separate lists, based on the median. The first list will have all numbers less than the median, and the 2nd list will have all the numbers greater than the median, including the median. Use list slicing to achieve this."
      ]
    },
    {
      "cell_type": "code",
      "metadata": {
        "id": "HE2TSNhRiKdY"
      },
      "source": [
        ""
      ],
      "execution_count": null,
      "outputs": []
    },
    {
      "cell_type": "markdown",
      "metadata": {
        "id": "lvyc83TikMqI"
      },
      "source": [
        "###Given below is a dictionary containing the details of people taking Covid-19 test."
      ]
    },
    {
      "cell_type": "code",
      "metadata": {
        "id": "Yri_6tcTkMCY",
        "outputId": "8dc2f66e-37f4-4c1a-8e5f-faaa2c32e47d",
        "colab": {
          "base_uri": "https://localhost:8080/"
        }
      },
      "source": [
        "\"\"\"\n",
        "Key - name of the patient\n",
        "Values - array of \n",
        "                1 - Whether the patient has covid-19 or not\n",
        "                2 - The patient's age\n",
        "                3 - The temperature of the patient in Fahrenheit Scale\n",
        "\"\"\"\n",
        "details = {'Ratchel' : ['No', 24, 97], 'Shrek' : ['No', 31, 99], 'Gillard' : ['No', 21, 98], 'Rea' : ['Yes', 23, 102], 'Adam': ['No', 67, 95]}\n",
        "details"
      ],
      "execution_count": 2,
      "outputs": [
        {
          "output_type": "execute_result",
          "data": {
            "text/plain": [
              "{'Adam': ['No', 67, 95],\n",
              " 'Gillard': ['No', 21, 98],\n",
              " 'Ratchel': ['No', 24, 97],\n",
              " 'Rea': ['Yes', 43, 102],\n",
              " 'Shrek': ['No', 31, 99]}"
            ]
          },
          "metadata": {
            "tags": []
          },
          "execution_count": 2
        }
      ]
    },
    {
      "cell_type": "markdown",
      "metadata": {
        "id": "zzyTdWgJl7nq"
      },
      "source": [
        "Q3 - From the above dictionary, list out all the people who don't have Covid-19, as well as their age lies in the range of 20 - 30 years old"
      ]
    },
    {
      "cell_type": "code",
      "metadata": {
        "id": "NHIlpRbdlhlP"
      },
      "source": [
        ""
      ],
      "execution_count": null,
      "outputs": []
    },
    {
      "cell_type": "markdown",
      "metadata": {
        "id": "WYb85dXOmWKZ"
      },
      "source": [
        "Q4 - Sort the above dictionary in decreasing order on the basis of their temperatures."
      ]
    },
    {
      "cell_type": "code",
      "metadata": {
        "id": "C75_fuYOmV1i"
      },
      "source": [
        ""
      ],
      "execution_count": null,
      "outputs": []
    },
    {
      "cell_type": "markdown",
      "metadata": {
        "id": "l2NABanfnDvJ"
      },
      "source": [
        "##Q5 - Write a simple python script to accept a string as input, and find those words which appear more than 2 times in the string.\n",
        "\n",
        "E.g. - What profession did Harvard call the Sexiest Job of the 21st Century? That’s right… the data scientist. Ah yes, the ever mysterious data scientist. So what exactly is the data scientist’s secret sauce, and what does this “sexy” person actually do at work every day? This article is intended to help define the data scientist role, including typical skills, qualifications, education, experience, and responsibilities. This definition is somewhat loose since there really isn’t a standardized definition of the data scientist role, and given that the ideal experience and skill set is relatively rare to find in one individual. This definition can be further confused by the fact that there are other roles sometimes thought of as the same, but are often quite different. Some of these include data analyst, data engineer, and so on. More on that later.\n",
        "\n",
        "Output - \n",
        "what\n",
        "the\n",
        "of\n",
        "data\n",
        "is\n",
        "and\n",
        "this\n",
        "definition\n",
        "that"
      ]
    },
    {
      "cell_type": "code",
      "metadata": {
        "id": "ahsM1DCArpfc"
      },
      "source": [
        ""
      ],
      "execution_count": null,
      "outputs": []
    }
  ]
}